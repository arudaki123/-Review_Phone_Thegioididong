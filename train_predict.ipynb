{
 "cells": [
  {
   "cell_type": "markdown",
   "metadata": {},
   "source": [
    "# $&ensp&ensp$ ĐỒ ÁN KHAI THÁC DỮ LIỆU ỨNG DỤNG"
   ]
  },
  {
   "cell_type": "markdown",
   "metadata": {},
   "source": [
    "### Thành viên\n",
    "\n",
    "* Trần Đức Thắng - 1712761\n",
    "* Nguyễn Lê Trường Thành - 1712775\n",
    "* Đào Thanh Thiện - 1712782\n"
   ]
  },
  {
   "cell_type": "code",
   "execution_count": 14,
   "metadata": {
    "colab": {
     "base_uri": "https://localhost:8080/"
    },
    "id": "AKhgmK7ia96U",
    "outputId": "20eae9c3-bd53-4b25-af12-8ab1d720e931"
   },
   "outputs": [],
   "source": [
    "import numpy as np\n",
    "import pandas as pd\n",
    "import re\n",
    "from nltk import ngrams\n",
    "from underthesea import word_tokenize\n",
    "import os\n",
    "import matplotlib.pyplot as plt\n",
    "\n",
    "from sklearn import svm\n",
    "from sklearn.feature_extraction.text import TfidfVectorizer\n",
    "from sklearn.externals import joblib\n",
    "from sklearn.model_selection import train_test_split\n",
    "from sklearn.model_selection import GridSearchCV\n",
    "from sklearn.linear_model import LogisticRegression\n",
    "from sklearn.model_selection import cross_val_score\n",
    "\n",
    "import torch\n",
    "import transformers as ppb\n",
    "import warnings\n"
   ]
  },
  {
   "cell_type": "markdown",
   "metadata": {},
   "source": [
    "# XÂY DỰNG MÔ HÌNH ĐÁNH GIÁ ĐIỆN THOẠI QUA BÌNH LUẬN CỦA TRANG THEGIOIDIDONG.COM"
   ]
  },
  {
   "cell_type": "markdown",
   "metadata": {},
   "source": [
    "## load data"
   ]
  },
  {
   "cell_type": "code",
   "execution_count": 15,
   "metadata": {
    "id": "tuoGWmisa96a"
   },
   "outputs": [],
   "source": [
    "warnings.filterwarnings('ignore')"
   ]
  },
  {
   "cell_type": "code",
   "execution_count": 16,
   "metadata": {
    "colab": {
     "base_uri": "https://localhost:8080/",
     "height": 346
    },
    "id": "6dOlbZUna96c",
    "outputId": "4beb7f48-5c5e-451f-a741-9e43d7d98977"
   },
   "outputs": [
    {
     "data": {
      "text/html": [
       "<div>\n",
       "<style scoped>\n",
       "    .dataframe tbody tr th:only-of-type {\n",
       "        vertical-align: middle;\n",
       "    }\n",
       "\n",
       "    .dataframe tbody tr th {\n",
       "        vertical-align: top;\n",
       "    }\n",
       "\n",
       "    .dataframe thead th {\n",
       "        text-align: right;\n",
       "    }\n",
       "</style>\n",
       "<table border=\"1\" class=\"dataframe\">\n",
       "  <thead>\n",
       "    <tr style=\"text-align: right;\">\n",
       "      <th></th>\n",
       "      <th>model</th>\n",
       "      <th>Text</th>\n",
       "      <th>Sentiment</th>\n",
       "      <th>Star</th>\n",
       "    </tr>\n",
       "  </thead>\n",
       "  <tbody>\n",
       "    <tr>\n",
       "      <th>0</th>\n",
       "      <td>Samsung Galaxy A71</td>\n",
       "      <td>Dùng được 1 tháng thì sạc đến 95% là không lên nữa. Rút sạc ra cắm lại thì 100%, khônng hiểu.</td>\n",
       "      <td>0</td>\n",
       "      <td>1</td>\n",
       "    </tr>\n",
       "    <tr>\n",
       "      <th>1</th>\n",
       "      <td>Samsung Galaxy A71</td>\n",
       "      <td>Trời ơi làm ơn cho đổi máy khác đi mua mấy tháng giờ lỗi phần đánh thức buồn kg trôi.đưa đi kiểm tra rồi về vẫn bị a71 .là vậy sao làm ơn đôi máy khác đi</td>\n",
       "      <td>0</td>\n",
       "      <td>1</td>\n",
       "    </tr>\n",
       "    <tr>\n",
       "      <th>2</th>\n",
       "      <td>Samsung Galaxy A71</td>\n",
       "      <td>Máy mua mới từ tháng 5/2020 Dùng được 3 tháng thì cắm sạc không vào ( điện thoại không rơi vào nước, không để nước vào ) Mang ra bảo hành thì báo lỗi cá nhân không được bảo hành thay mất 800k.</td>\n",
       "      <td>0</td>\n",
       "      <td>1</td>\n",
       "    </tr>\n",
       "    <tr>\n",
       "      <th>3</th>\n",
       "      <td>Samsung Galaxy A71</td>\n",
       "      <td>Mang về dùng được 2 tháng nữa thì lại tiếp tục hỏng chân sạc ( củ sạc thường thì vào, sạc nhanh thì không lên ) lại lóc cóc mang ra bảo hành và được báo là chân sạc mốc lỗi cá nhân thay 640k</td>\n",
       "      <td>0</td>\n",
       "      <td>1</td>\n",
       "    </tr>\n",
       "    <tr>\n",
       "      <th>4</th>\n",
       "      <td>Samsung Galaxy A71</td>\n",
       "      <td>Dùng bao nhiêu đời điện thoại của thegioididong rồi chưa bao giờ gặp tình trạng này, máy không rơi nước ko để nước vào 6 tháng hỏng sạc 2 lần máy mới nhưng không được bảo hành.</td>\n",
       "      <td>0</td>\n",
       "      <td>1</td>\n",
       "    </tr>\n",
       "    <tr>\n",
       "      <th>...</th>\n",
       "      <td>...</td>\n",
       "      <td>...</td>\n",
       "      <td>...</td>\n",
       "      <td>...</td>\n",
       "    </tr>\n",
       "    <tr>\n",
       "      <th>18013</th>\n",
       "      <td>Mobell M529</td>\n",
       "      <td>Sản phẩm nhỏ gọn thiết kế dẹp bàn phím lớn dễ thao tác màng hình to âm thanh to rõ chất lượng tốt pin khủng nhân viên phục vụ tốt và xinh tốt hơn mong đợi Minh tinh mua itell Nhưng chi nhánh hết hàng</td>\n",
       "      <td>1</td>\n",
       "      <td>5</td>\n",
       "    </tr>\n",
       "    <tr>\n",
       "      <th>18014</th>\n",
       "      <td>Mobell M529</td>\n",
       "      <td>Sản phẩm tốt. Mua làm quà cho người lớn thì 0k. Âm thanh nghe rõ. Phìm to dễ sử dụng</td>\n",
       "      <td>1</td>\n",
       "      <td>5</td>\n",
       "    </tr>\n",
       "    <tr>\n",
       "      <th>18015</th>\n",
       "      <td>Mobell M529</td>\n",
       "      <td>Quá tuyệt vời.  Điện thoại cơ bản mà tôi đang kiếm tìm bâdy lâu nay đây rồi. Pin trâu, màn to, phím lớn. Quá okê</td>\n",
       "      <td>1</td>\n",
       "      <td>5</td>\n",
       "    </tr>\n",
       "    <tr>\n",
       "      <th>18016</th>\n",
       "      <td>Mobell M529</td>\n",
       "      <td>Sản phẩm tuyệt vời. Mua làm quà cho người lớn thì tuyệt. Âm thanh nghe rõ. Phìm to dễ sử dụng. Thích</td>\n",
       "      <td>1</td>\n",
       "      <td>5</td>\n",
       "    </tr>\n",
       "    <tr>\n",
       "      <th>18017</th>\n",
       "      <td>Mobell M529</td>\n",
       "      <td>Không quá cầu kì nhưng Mobell M529 vẫn mang lại sự thanh lịch trong thiết kế. Với các góc được vát nhẹ, thiết kế của Mobell M529 tạo nên sự quyến rũ cũng như cảm giác cầm nắm chắc chắn.</td>\n",
       "      <td>1</td>\n",
       "      <td>5</td>\n",
       "    </tr>\n",
       "  </tbody>\n",
       "</table>\n",
       "<p>18018 rows × 4 columns</p>\n",
       "</div>"
      ],
      "text/plain": [
       "                    model  \\\n",
       "0      Samsung Galaxy A71   \n",
       "1      Samsung Galaxy A71   \n",
       "2      Samsung Galaxy A71   \n",
       "3      Samsung Galaxy A71   \n",
       "4      Samsung Galaxy A71   \n",
       "...                   ...   \n",
       "18013         Mobell M529   \n",
       "18014         Mobell M529   \n",
       "18015         Mobell M529   \n",
       "18016         Mobell M529   \n",
       "18017         Mobell M529   \n",
       "\n",
       "                                                                                                                                                                                                           Text  \\\n",
       "0                                                                                                                 Dùng được 1 tháng thì sạc đến 95% là không lên nữa. Rút sạc ra cắm lại thì 100%, khônng hiểu.   \n",
       "1                                                 Trời ơi làm ơn cho đổi máy khác đi mua mấy tháng giờ lỗi phần đánh thức buồn kg trôi.đưa đi kiểm tra rồi về vẫn bị a71 .là vậy sao làm ơn đôi máy khác đi   \n",
       "2              Máy mua mới từ tháng 5/2020 Dùng được 3 tháng thì cắm sạc không vào ( điện thoại không rơi vào nước, không để nước vào ) Mang ra bảo hành thì báo lỗi cá nhân không được bảo hành thay mất 800k.   \n",
       "3                Mang về dùng được 2 tháng nữa thì lại tiếp tục hỏng chân sạc ( củ sạc thường thì vào, sạc nhanh thì không lên ) lại lóc cóc mang ra bảo hành và được báo là chân sạc mốc lỗi cá nhân thay 640k   \n",
       "4                              Dùng bao nhiêu đời điện thoại của thegioididong rồi chưa bao giờ gặp tình trạng này, máy không rơi nước ko để nước vào 6 tháng hỏng sạc 2 lần máy mới nhưng không được bảo hành.   \n",
       "...                                                                                                                                                                                                         ...   \n",
       "18013   Sản phẩm nhỏ gọn thiết kế dẹp bàn phím lớn dễ thao tác màng hình to âm thanh to rõ chất lượng tốt pin khủng nhân viên phục vụ tốt và xinh tốt hơn mong đợi Minh tinh mua itell Nhưng chi nhánh hết hàng   \n",
       "18014                                                                                                                      Sản phẩm tốt. Mua làm quà cho người lớn thì 0k. Âm thanh nghe rõ. Phìm to dễ sử dụng   \n",
       "18015                                                                                          Quá tuyệt vời.  Điện thoại cơ bản mà tôi đang kiếm tìm bâdy lâu nay đây rồi. Pin trâu, màn to, phím lớn. Quá okê   \n",
       "18016                                                                                                      Sản phẩm tuyệt vời. Mua làm quà cho người lớn thì tuyệt. Âm thanh nghe rõ. Phìm to dễ sử dụng. Thích   \n",
       "18017                 Không quá cầu kì nhưng Mobell M529 vẫn mang lại sự thanh lịch trong thiết kế. Với các góc được vát nhẹ, thiết kế của Mobell M529 tạo nên sự quyến rũ cũng như cảm giác cầm nắm chắc chắn.   \n",
       "\n",
       "       Sentiment  Star  \n",
       "0              0     1  \n",
       "1              0     1  \n",
       "2              0     1  \n",
       "3              0     1  \n",
       "4              0     1  \n",
       "...          ...   ...  \n",
       "18013          1     5  \n",
       "18014          1     5  \n",
       "18015          1     5  \n",
       "18016          1     5  \n",
       "18017          1     5  \n",
       "\n",
       "[18018 rows x 4 columns]"
      ]
     },
     "execution_count": 16,
     "metadata": {},
     "output_type": "execute_result"
    }
   ],
   "source": [
    "# load data\n",
    "def load_data_model(filepath, n, star):\n",
    "    data = []\n",
    "    with open(filepath, encoding=\"utf8\") as fp:\n",
    "        line = fp.readline()\n",
    "        if line.strip().split(':')[0] == 'Name':\n",
    "            name = line.strip().split(':')[1]\n",
    "            \n",
    "            temp = ''\n",
    "        cnt = 1\n",
    "        while line:\n",
    "            #print(\"Line {}: {}\".format(cnt, line.strip()))\n",
    "            if line.strip().split(':')[0] == 'Name':\n",
    "                name = line.strip().split(': ')[1]\n",
    "                line = fp.readline()\n",
    "            elif line.strip() == '':\n",
    "                data.append([name, temp, n, star])\n",
    "                temp = ''\n",
    "            else:\n",
    "                temp += ' ' + line.strip()\n",
    "            line = fp.readline()\n",
    "            #cnt += 1\n",
    "    return pd.DataFrame(data, columns=['model', 'Text', 'Sentiment', 'Star'])\n",
    "\n",
    "data1 = load_data_model('comment1.txt', 0, 1)\n",
    "data2 = load_data_model('comment2.txt', 0, 2)\n",
    "data3 = load_data_model('comment3.txt', 1, 3)\n",
    "data4 = load_data_model('comment4.txt', 1, 4)\n",
    "data5 = load_data_model('comment5.txt', 1, 5)\n",
    "result = pd.concat([data1, data2, data3, data4, data5], ignore_index=True)\n",
    "\n",
    "pd.set_option('display.max_colwidth',1000)\n",
    "\n",
    "result"
   ]
  },
  {
   "cell_type": "markdown",
   "metadata": {},
   "source": [
    "## histograms"
   ]
  },
  {
   "cell_type": "code",
   "execution_count": 17,
   "metadata": {},
   "outputs": [
    {
     "data": {
      "text/plain": [
       "<AxesSubplot:title={'center':'Top 10 điện thoại có nhiều comment nhất'}, xlabel='Số lượng comment', ylabel='Tên'>"
      ]
     },
     "execution_count": 17,
     "metadata": {},
     "output_type": "execute_result"
    },
    {
     "data": {
      "image/png": "[encoded data removed]",
      "text/plain": [
       "<Figure size 864x576 with 1 Axes>"
      ]
     },
     "metadata": {
      "needs_background": "light"
     },
     "output_type": "display_data"
    }
   ],
   "source": [
    "# Số lượng comment của từng điện thoại\n",
    "totalCommentCount = result.model.value_counts()\n",
    "mostComment = totalCommentCount.head(10)\n",
    "plt.figure(figsize=(12, 8))\n",
    "plt.xlabel(\"Số lượng comment\")\n",
    "plt.ylabel(\"Tên\")\n",
    "plt.title('Top 10 điện thoại có nhiều comment nhất'\n",
    "          ,color = 'blue'\n",
    "          ,fontsize = 16)\n",
    "mostComment.plot.barh()"
   ]
  },
  {
   "cell_type": "code",
   "execution_count": 18,
   "metadata": {},
   "outputs": [
    {
     "data": {
      "text/plain": [
       "<AxesSubplot:title={'center':'Top 10 điện thoại có ít comment nhất'}, xlabel='Số lượng comment', ylabel='Tên'>"
      ]
     },
     "execution_count": 18,
     "metadata": {},
     "output_type": "execute_result"
    },
    {
     "data": {
      "image/png": "[encoded data removed]",
      "text/plain": [
       "<Figure size 864x576 with 1 Axes>"
      ]
     },
     "metadata": {
      "needs_background": "light"
     },
     "output_type": "display_data"
    }
   ],
   "source": [
    "# Số lượng comment của từng điện thoại\n",
    "totalCommentCount = result.model.value_counts()\n",
    "lessComment = totalCommentCount[::-1].head(10)\n",
    "plt.figure(figsize=(12, 8))\n",
    "plt.xlabel(\"Số lượng comment\")\n",
    "plt.ylabel(\"Tên\")\n",
    "plt.title('Top 10 điện thoại có ít comment nhất'\n",
    "          ,color = 'blue'\n",
    "          ,fontsize = 16)\n",
    "lessComment.plot.barh()"
   ]
  },
  {
   "cell_type": "code",
   "execution_count": 19,
   "metadata": {},
   "outputs": [
    {
     "data": {
      "text/plain": [
       "([<matplotlib.patches.Wedge at 0x1f149afde48>,\n",
       "  <matplotlib.patches.Wedge at 0x1f149b05b08>],\n",
       " [Text(-0.7191865894244864, 0.8323284505482048, 'Tích cực'),\n",
       "  Text(0.7191866673526971, -0.8323283832130929, 'Tiêu cực')],\n",
       " [Text(-0.392283594231538, 0.4539973366626571, '72.7%'),\n",
       "  Text(0.3922836367378348, -0.45399729993441423, '27.3%')])"
      ]
     },
     "execution_count": 19,
     "metadata": {},
     "output_type": "execute_result"
    },
    {
     "data": {
      "image/png": "[encoded data removed]",
      "text/plain": [
       "<Figure size 720x720 with 2 Axes>"
      ]
     },
     "metadata": {},
     "output_type": "display_data"
    }
   ],
   "source": [
    "fig, (ax1,ax2) = plt.subplots(1,2,figsize=(10,10))\n",
    "\n",
    "#Tỉ lệ comment theo sô sao\n",
    "labels = result.Star.value_counts().index\n",
    "sizes = result.Star.value_counts().values\n",
    "ax1.pie(sizes, labels=labels, autopct='%1.1f%%')\n",
    "#ax1.title('Tỉ lệ comment theo sô sao')\n",
    "\n",
    "labels = ['Tích cực', 'Tiêu cực']\n",
    "sizes = result.Sentiment.value_counts().values\n",
    "\n",
    "ax2.pie(sizes, labels=labels, autopct='%1.1f%%')\n",
    "#ax2.title('Tỉ lệ comment tích cực/ tiêu cực')"
   ]
  },
  {
   "cell_type": "markdown",
   "metadata": {},
   "source": [
    "## Data pre-processing"
   ]
  },
  {
   "cell_type": "code",
   "execution_count": 25,
   "metadata": {},
   "outputs": [],
   "source": [
    "# tách tập test từ dữ liệu\n",
    "#test = result[(result.model == 'Xiaomi Redmi 9')] | (result.model == 'Realme 6')]\n",
    "test = result[(result.model == 'Vsmart Joy 3')]\n",
    "result = result.drop(test.index, axis=0)"
   ]
  },
  {
   "cell_type": "code",
   "execution_count": 27,
   "metadata": {
    "id": "lFChX_Q7a96e"
   },
   "outputs": [],
   "source": [
    "emb = None\n",
    "\n",
    "# Standardize text data\n",
    "def standardize_data(row):\n",
    "    # Xóa dấu chấm, phẩy, hỏi ở cuối câu\n",
    "    row = re.sub(r\"[\\.,\\?]+$-\", \"\", row)\n",
    "    # Xóa tất cả dấu chấm, phẩy, chấm phẩy, chấm than, ... trong câu\n",
    "    row = row.replace(\",\", \" \").replace(\".\", \" \") \\\n",
    "        .replace(\";\", \" \").replace(\"“\", \" \") \\\n",
    "        .replace(\":\", \" \").replace(\"”\", \" \") \\\n",
    "        .replace('\"', \" \").replace(\"'\", \" \") \\\n",
    "        .replace(\"!\", \" \").replace(\"?\", \" \") \\\n",
    "        .replace(\"-\", \" \").replace(\"?\", \" \")\n",
    "    # xóa số trong câu\n",
    "    #row = re.sub(r'[0-9]+', '', row)\n",
    "    row = row.strip()\n",
    "    return row\n",
    "\n",
    "# Tokenizer\n",
    "def tokenizer(row):\n",
    "    return word_tokenize(row, format=\"text\")\n",
    "\n",
    "# Embeding\n",
    "def embedding(X_train, X_test):\n",
    "    global  emb\n",
    "    emb = TfidfVectorizer(min_df=5, max_df=0.8,max_features=3000,sublinear_tf=True)\n",
    "    emb.fit(X_train)\n",
    "    X_train =  emb.transform(X_train)\n",
    "    X_test = emb.transform(X_test)\n",
    "\n",
    "    # Save pkl file\n",
    "    joblib.dump(emb, 'tfidf.pkl')\n",
    "    # print(X_train, X_test)\n",
    "    return X_train, X_test\n"
   ]
  },
  {
   "cell_type": "code",
   "execution_count": 28,
   "metadata": {
    "colab": {
     "base_uri": "https://localhost:8080/"
    },
    "id": "dyPV7Rw5a96f",
    "outputId": "8e290f00-8003-48fb-b3db-07e6b37ed3c3"
   },
   "outputs": [
    {
     "name": "stdout",
     "output_type": "stream",
     "text": [
      "Trời_ơi làm_ơn cho đổi máy khác đi mua mấy tháng giờ lỗi phần đánh_thức buồn kg trôi đưa đi kiểm_tra rồi về vẫn bị a71 là vậy sao làm_ơn đôi máy khác đi\n"
     ]
    }
   ],
   "source": [
    "# Standardize and tokenizer Text column\n",
    "result[\"Text\"] = result.Text.apply(standardize_data)\n",
    "\n",
    "result[\"Text\"] = result.Text.apply(tokenizer)\n",
    "\n",
    "print(result[\"Text\"][1])\n"
   ]
  },
  {
   "cell_type": "code",
   "execution_count": 36,
   "metadata": {
    "colab": {
     "base_uri": "https://localhost:8080/"
    },
    "id": "uUqoh8Cta96g",
    "outputId": "c3a78298-dd01-4de3-c0e4-e72943446102"
   },
   "outputs": [
    {
     "name": "stdout",
     "output_type": "stream",
     "text": [
      "After preprocess data: \n",
      "12527                                                                                                                                                                                                                                                                                                                                                                                                                                                                   Mình mới mua mấy luôn Máy chất_lượng pin trâu chụp hình đẹp oppo k làm tôi thất_vọng máy OK lắm\n",
      "4221                                                                                                                                                                                                                                                                                                                                                                                                                                                       t thề đây là lần cuối_cùng tôi sử_dụng đt của hãng oppo mua đt 8 5 củ mà chơi game ko được thì cũng chịu rồi\n",
      "7001                                                                                                                                                                                                                                                                                        Camera trước chat video quá cận_cảnh chat trong phòng thiếu sáng là không thấy mặt luôn trong khi con nokia 7 plus thì vẫn thấy Cảm_biến vân tay khắt_khe xíu mồ_hôi cũng không nhận bắt sóng wifi hơi yếu Camere sau thì sắc nét Nói_chung con này thích_hợp chụp hình hơn\n",
      "13498                                                                                                                                                                                                                                                                                                                                                                                                                                                  Eo chip 450 mà 3990 k 3990 k thà mua note 8 pro ngon hơn nhiều hoawcf mua joy 4 chip 665 rẻ hơn mianhj hơn nhiều\n",
      "789      Đã mua được 2 tuần và thấy chiếc điện_thoại này vô_cùng tệ camera chụp xấu không rõ nét lên sáng không chân_thực ( Thiết_kế 3 camera hình_như chỉ để làm_màu khả_năng lấy nét còn thua cả mấy dòng điện_thoại ghẻ 2 3 triệu ) Cấu_hình thì xập_xệ chơi PUBG giật lên giật xuống xem youtube thì hình_ảnh cứ bể bể sao ấy Chốt đừng mua với 9 triệu các bạn có_thể mua được một chiếc điện_thoại khác ngon hơn hoặc nếu vẫn thích Samsung thì các bạn mua cũ lại note8 note9 s7e s8 xài là bao ổn_áp Riêng mình thì mình sắp bán luôn con này rồi tiếc tiền quá\n",
      "                                                                                                                                                                                                                                                                                      ...                                                                                                                                                                                                                                                                              \n",
      "11897                                                                                                                                                                                                                                                                                                                                                                                                                                                                              Điện_thoại em mới mua khoảng 2 tuần sao bluetooth đi hơi xa là nó bị yếu ạ Nó bị vấp\n",
      "12577                                                                                                                                                                                                                                                                                                                                                                                                                                                                                 Thiết_kế mỏng nhẹ cấu_hình mạnh sạc nhanh đáng để mọi người mua trong tầm giá này\n",
      "5658                                                                                                                                                                                                                                                                                                                                                                                                                                                                                                          Bạn có thấy cam tệ k sau tui thấy cam nó tệ hơn a50 nữa á\n",
      "998                                                                                                                                                                                                                                                                                                                                                                                                                               Quảng_cáo thì hay tới lúc hết bảo_hành toàn lỗi main vs nguồn Mua rõ là 128 g xài mấy ứng_dụng cơ_bản cứ báo dung_lượng dầy tệ quá tệ\n",
      "16408                                                                                                                                                                                                                                                                                                                                                                                                                                                                                                                                                   Máy sài rất tốt\n",
      "Name: Text, Length: 13924, dtype: object\n",
      "12527    1\n",
      "4221     0\n",
      "7001     1\n",
      "13498    1\n",
      "789      0\n",
      "        ..\n",
      "11897    1\n",
      "12577    1\n",
      "5658     1\n",
      "998      0\n",
      "16408    1\n",
      "Name: Sentiment, Length: 13924, dtype: int64\n"
     ]
    }
   ],
   "source": [
    "# Convert to X_train, y_train\n",
    "X_train,X_val,y_train,y_val = train_test_split(result[\"Text\"],result[\"Sentiment\"],test_size=0.2, random_state=42)\n",
    "\n",
    "print(\"After preprocess data: \")\n",
    "print(X_train)\n",
    "print(y_train)"
   ]
  },
  {
   "cell_type": "code",
   "execution_count": 37,
   "metadata": {
    "colab": {
     "base_uri": "https://localhost:8080/"
    },
    "id": "z5Mi2y89a96g",
    "outputId": "b446c4b1-5925-490a-8190-e21a04233c1b"
   },
   "outputs": [
    {
     "name": "stdout",
     "output_type": "stream",
     "text": [
      "Sau khi embedding data: \n",
      "  (0, 2870)\t0.12586320538915355\n",
      "  (0, 2839)\t0.22937591263429716\n",
      "  (0, 2816)\t0.3345718403420745\n",
      "  (0, 2438)\t0.19516024269185245\n",
      "  (0, 2205)\t0.4076594970385036\n",
      "  (0, 2159)\t0.10828186034414235\n",
      "  (0, 2067)\t0.16538822978234177\n",
      "  (0, 1956)\t0.1559879310047141\n",
      "  (0, 1769)\t0.23474347627054384\n",
      "  (0, 1397)\t0.1268055609105711\n",
      "  (0, 1389)\t0.0950991760103874\n",
      "  (0, 1297)\t0.1933034477037231\n",
      "  (0, 1252)\t0.11443149320555074\n",
      "  (0, 1157)\t0.13457075478348016\n",
      "  (0, 964)\t0.2308087231128771\n",
      "  (0, 794)\t0.1312014369324001\n",
      "  (0, 631)\t0.1653120718002371\n",
      "  (0, 630)\t0.2827673969926453\n",
      "  (0, 571)\t0.1423118522297814\n",
      "  (0, 523)\t0.32795608079138727\n",
      "  (0, 474)\t0.2823480353136669\n",
      "  (0, 447)\t0.13350755011121695\n"
     ]
    }
   ],
   "source": [
    "# 4. Embeding X_train\n",
    "X_train,X_val  = embedding(X_train, X_val)\n",
    "print(\"Sau khi embedding data: \")\n",
    "print(X_train[1])"
   ]
  },
  {
   "cell_type": "code",
   "execution_count": 31,
   "metadata": {
    "colab": {
     "base_uri": "https://localhost:8080/"
    },
    "id": "NzFlF0n4a96g",
    "outputId": "20ba93e6-658a-414b-8a6f-4d506aa8737d"
   },
   "outputs": [
    {
     "data": {
      "text/plain": [
       "['saved_model.pkl']"
      ]
     },
     "execution_count": 31,
     "metadata": {},
     "output_type": "execute_result"
    }
   ],
   "source": [
    "# 5. Train and save model\n",
    "model = svm.SVC(kernel='rbf', C = 1, gamma='scale')\n",
    "model.fit(X_train,y_train)\n",
    "joblib.dump(model, 'saved_model.pkl')\n"
   ]
  },
  {
   "cell_type": "code",
   "execution_count": 32,
   "metadata": {
    "colab": {
     "base_uri": "https://localhost:8080/"
    },
    "id": "-R_CBu9ia96h",
    "outputId": "4dad581f-d6c5-4e9a-edec-92e23c344c4b"
   },
   "outputs": [
    {
     "name": "stdout",
     "output_type": "stream",
     "text": [
      "Model score= 0.8293593794886527\n"
     ]
    }
   ],
   "source": [
    "# 6. Test\n",
    "print(\"Model score=\", model.score(X_val, y_val))"
   ]
  },
  {
   "cell_type": "code",
   "execution_count": 33,
   "metadata": {
    "id": "TWlTWUH4hBHU"
   },
   "outputs": [],
   "source": [
    "def analyze(result):\n",
    "    bad = np.count_nonzero(result)\n",
    "    good = len(result) - bad\n",
    "    print(\"No of bad and neutral comments = \", bad)\n",
    "    print(\"No of good comments = \", good)\n",
    "\n",
    "    if good/(bad+good) > 0.8:\n",
    "        return \"Tốt, sản phẩm đáng mua!\"\n",
    "    else:\n",
    "        return \"Tệ, cần được xem xét kĩ trước khi mua!\""
   ]
  },
  {
   "cell_type": "code",
   "execution_count": 34,
   "metadata": {},
   "outputs": [
    {
     "name": "stdout",
     "output_type": "stream",
     "text": [
      "[0 0 0 0 0 0 0 0 0 1 1 1 0 0 1 0 1 0 0 1 0 0 0 0 0 0 0 1 0 1 0 1 0 0 0 0 1\n",
      " 1 0 0 0 0 1 0 0 0 0 1 0 1 0 0 1 0 0 1 0 1 0 0 1 0 0 1 1 1 0 1 0 1 1 1 0 0\n",
      " 0 0 0 1 0 0 1 1 1 1 0 0 1 0 0 1 0 0 0 0 0 0 0 0 0 0 0 1 0 1 1 0 0 0 0 1 0\n",
      " 0 0 0 0 0 0 1 0 1 0 0 0 0 0 0 0 0 1 1 0 1 1 1 0 0 1 0 0 0 1 1 0 1 1 0 1 0\n",
      " 0 1 1 1 0 0 0 0 0 0 0 0 1 1 0 0 1 0 0 0 1 0 1 1 0 1 0 1 0 1 0 1 0 0 1 1 1\n",
      " 1 1 1 1 1 0 0 1 1 1 1 1 1 0 1 1 1 1 1 1 1 1 1 1 0 1 1 0 1 0 0 1 1 1 1 1 0\n",
      " 1 1 1 1 1 1 0 0 1 1 1 1 1 1 1 0 1 0 0 1 0 1 1 1 0 0 1 1 1 1 0 0 0 1 1 1 1\n",
      " 0 1 1 1 0 1 1 0 1 1 1 1 1 1 1 1 1 1 1 1 1 1 1 1 1 1 1 1 1 1 1 1 1 1 1 1 1\n",
      " 1 1 1 1 1 1 1 1 1 1 0 1 1 1 1 1 1 1 1 1 1 1 1 1 1 1 1 1 1 1 1 1 0 1 1 1 1\n",
      " 0 1 1 1 1 1 1 1 1 1 1 1 1 0 1 1 1 1 1 1 1 1 1 1 1 1 1 1 1 1 1 0 1 1 0 1 1\n",
      " 1 1 1 1 1 1 0 1 1 1 1 1 1 1 1 1 1 1 1 1 1 1 1 1 1 1 1 1 1 1 1 1 1 1 1 1 1\n",
      " 1 1 1 1 1 1 1 1 1 1 1 1 1 1 1 1 1 1 1 1 1 1 1 1 1 1 1 1 1 1 1 1 1 1 1 1 1\n",
      " 1 1 1 1 1 1 1 1 1 1 1 1 1 1 1 1 1 1 1 1 1 1 1 1 1 1 1 1 1 1 1 1 1 1 1 1 1\n",
      " 1 1 1 1 1 1 1 1 1 1 1 1 1 1 1 1 1 1 1 1 1 1 1 1 1 1 1 1 1 1 1 1 1 1 1 1 1\n",
      " 1 1 1 1 1 1 1 1 1 1 1 1 1 1 1 1 1 1 1 1 1 1 1 1 1 1 1 1 1 1 1 1 1 1 1 1 1\n",
      " 1 1 1 0 1 1 1 0 1 1 0 1 1 1 1 1 1 1 1 1 1 1 1 1 1 1 1 1 1 1 1 1 1 1 1 1 1\n",
      " 1 1 1 1 1 1 1 1 1 1 1 1 1 1 1 1 1 1 1 1 1]\n",
      "No of bad and neutral comments =  461\n",
      "No of good comments =  152\n",
      "Tệ, cần được xem xét kĩ trước khi mua!\n"
     ]
    }
   ],
   "source": [
    "# Standardize and tokenizer Text column\n",
    "test[\"Text\"] = test.Text.apply(standardize_data)\n",
    "\n",
    "test[\"Text\"] = test.Text.apply(tokenizer)\n",
    "\n",
    "# Embedding\n",
    "emb = joblib.load('tfidf.pkl')\n",
    "X_test  = emb.transform(test.Text)\n",
    "\n",
    "#  Load weights\n",
    "model = joblib.load('saved_model.pkl')\n",
    "\n",
    "#  Result\n",
    "rc = model.predict(X_test)\n",
    "\n",
    "print(rc)\n",
    "print(analyze(rc))"
   ]
  },
  {
   "cell_type": "markdown",
   "metadata": {},
   "source": [
    "**Qua kết quả trên ta thấy có 461 comments tốt về sản phẩm, 152 comment xấu. Nên chúng ta cần kiểm tra kĩ trước khi mua nó**"
   ]
  }
 ],
 "metadata": {
  "colab": {
   "collapsed_sections": [],
   "name": "da_train.ipynb",
   "provenance": []
  },
  "kernelspec": {
   "display_name": "Python 3",
   "language": "python",
   "name": "python3"
  },
  "language_info": {
   "codemirror_mode": {
    "name": "ipython",
    "version": 3
   },
   "file_extension": ".py",
   "mimetype": "text/x-python",
   "name": "python",
   "nbconvert_exporter": "python",
   "pygments_lexer": "ipython3",
   "version": "3.7.9"
  },
  "widgets": {
   "application/vnd.jupyter.widget-state+json": {
    "083fd0179d264bb484bbbddfc3387804": {
     "model_module": "@jupyter-widgets/base",
     "model_name": "LayoutModel",
     "state": {
      "_model_module": "@jupyter-widgets/base",
      "_model_module_version": "1.2.0",
      "_model_name": "LayoutModel",
      "_view_count": null,
      "_view_module": "@jupyter-widgets/base",
      "_view_module_version": "1.2.0",
      "_view_name": "LayoutView",
      "align_content": null,
      "align_items": null,
      "align_self": null,
      "border": null,
      "bottom": null,
      "display": null,
      "flex": null,
      "flex_flow": null,
      "grid_area": null,
      "grid_auto_columns": null,
      "grid_auto_flow": null,
      "grid_auto_rows": null,
      "grid_column": null,
      "grid_gap": null,
      "grid_row": null,
      "grid_template_areas": null,
      "grid_template_columns": null,
      "grid_template_rows": null,
      "height": null,
      "justify_content": null,
      "justify_items": null,
      "left": null,
      "margin": null,
      "max_height": null,
      "max_width": null,
      "min_height": null,
      "min_width": null,
      "object_fit": null,
      "object_position": null,
      "order": null,
      "overflow": null,
      "overflow_x": null,
      "overflow_y": null,
      "padding": null,
      "right": null,
      "top": null,
      "visibility": null,
      "width": null
     }
    },
    "0be08d52e1b64e96be87fe83440773b9": {
     "model_module": "@jupyter-widgets/base",
     "model_name": "LayoutModel",
     "state": {
      "_model_module": "@jupyter-widgets/base",
      "_model_module_version": "1.2.0",
      "_model_name": "LayoutModel",
      "_view_count": null,
      "_view_module": "@jupyter-widgets/base",
      "_view_module_version": "1.2.0",
      "_view_name": "LayoutView",
      "align_content": null,
      "align_items": null,
      "align_self": null,
      "border": null,
      "bottom": null,
      "display": null,
      "flex": null,
      "flex_flow": null,
      "grid_area": null,
      "grid_auto_columns": null,
      "grid_auto_flow": null,
      "grid_auto_rows": null,
      "grid_column": null,
      "grid_gap": null,
      "grid_row": null,
      "grid_template_areas": null,
      "grid_template_columns": null,
      "grid_template_rows": null,
      "height": null,
      "justify_content": null,
      "justify_items": null,
      "left": null,
      "margin": null,
      "max_height": null,
      "max_width": null,
      "min_height": null,
      "min_width": null,
      "object_fit": null,
      "object_position": null,
      "order": null,
      "overflow": null,
      "overflow_x": null,
      "overflow_y": null,
      "padding": null,
      "right": null,
      "top": null,
      "visibility": null,
      "width": null
     }
    },
    "0eba3a47b833468085316cf14683fff8": {
     "model_module": "@jupyter-widgets/controls",
     "model_name": "ProgressStyleModel",
     "state": {
      "_model_module": "@jupyter-widgets/controls",
      "_model_module_version": "1.5.0",
      "_model_name": "ProgressStyleModel",
      "_view_count": null,
      "_view_module": "@jupyter-widgets/base",
      "_view_module_version": "1.2.0",
      "_view_name": "StyleView",
      "bar_color": null,
      "description_width": "initial"
     }
    },
    "16d126bb9c214b5697a281957ca31b75": {
     "model_module": "@jupyter-widgets/controls",
     "model_name": "DescriptionStyleModel",
     "state": {
      "_model_module": "@jupyter-widgets/controls",
      "_model_module_version": "1.5.0",
      "_model_name": "DescriptionStyleModel",
      "_view_count": null,
      "_view_module": "@jupyter-widgets/base",
      "_view_module_version": "1.2.0",
      "_view_name": "StyleView",
      "description_width": ""
     }
    },
    "1cd733f6d38341b6b8fffff886d00ab4": {
     "model_module": "@jupyter-widgets/controls",
     "model_name": "HTMLModel",
     "state": {
      "_dom_classes": [],
      "_model_module": "@jupyter-widgets/controls",
      "_model_module_version": "1.5.0",
      "_model_name": "HTMLModel",
      "_view_count": null,
      "_view_module": "@jupyter-widgets/controls",
      "_view_module_version": "1.5.0",
      "_view_name": "HTMLView",
      "description": "",
      "description_tooltip": null,
      "layout": "IPY_MODEL_63f9895d305d43c5a531933b5ec7f51c",
      "placeholder": "​",
      "style": "IPY_MODEL_a564d5218c944b5cbc4df7242f596305",
      "value": " 232k/232k [00:00&lt;00:00, 2.09MB/s]"
     }
    },
    "30181612298042ebaac1503dcba70ca9": {
     "model_module": "@jupyter-widgets/controls",
     "model_name": "DescriptionStyleModel",
     "state": {
      "_model_module": "@jupyter-widgets/controls",
      "_model_module_version": "1.5.0",
      "_model_name": "DescriptionStyleModel",
      "_view_count": null,
      "_view_module": "@jupyter-widgets/base",
      "_view_module_version": "1.2.0",
      "_view_name": "StyleView",
      "description_width": ""
     }
    },
    "303af01502f143bf93718f49781e020f": {
     "model_module": "@jupyter-widgets/base",
     "model_name": "LayoutModel",
     "state": {
      "_model_module": "@jupyter-widgets/base",
      "_model_module_version": "1.2.0",
      "_model_name": "LayoutModel",
      "_view_count": null,
      "_view_module": "@jupyter-widgets/base",
      "_view_module_version": "1.2.0",
      "_view_name": "LayoutView",
      "align_content": null,
      "align_items": null,
      "align_self": null,
      "border": null,
      "bottom": null,
      "display": null,
      "flex": null,
      "flex_flow": null,
      "grid_area": null,
      "grid_auto_columns": null,
      "grid_auto_flow": null,
      "grid_auto_rows": null,
      "grid_column": null,
      "grid_gap": null,
      "grid_row": null,
      "grid_template_areas": null,
      "grid_template_columns": null,
      "grid_template_rows": null,
      "height": null,
      "justify_content": null,
      "justify_items": null,
      "left": null,
      "margin": null,
      "max_height": null,
      "max_width": null,
      "min_height": null,
      "min_width": null,
      "object_fit": null,
      "object_position": null,
      "order": null,
      "overflow": null,
      "overflow_x": null,
      "overflow_y": null,
      "padding": null,
      "right": null,
      "top": null,
      "visibility": null,
      "width": null
     }
    },
    "33e83ba5956143b6b023df01cec5cf3e": {
     "model_module": "@jupyter-widgets/controls",
     "model_name": "HTMLModel",
     "state": {
      "_dom_classes": [],
      "_model_module": "@jupyter-widgets/controls",
      "_model_module_version": "1.5.0",
      "_model_name": "HTMLModel",
      "_view_count": null,
      "_view_module": "@jupyter-widgets/controls",
      "_view_module_version": "1.5.0",
      "_view_name": "HTMLView",
      "description": "",
      "description_tooltip": null,
      "layout": "IPY_MODEL_6ed093d7bcee479f88642f668ed3061f",
      "placeholder": "​",
      "style": "IPY_MODEL_16d126bb9c214b5697a281957ca31b75",
      "value": " 268M/268M [00:09&lt;00:00, 28.2MB/s]"
     }
    },
    "392f1cda5c314983aea5e212e705c42c": {
     "model_module": "@jupyter-widgets/controls",
     "model_name": "HBoxModel",
     "state": {
      "_dom_classes": [],
      "_model_module": "@jupyter-widgets/controls",
      "_model_module_version": "1.5.0",
      "_model_name": "HBoxModel",
      "_view_count": null,
      "_view_module": "@jupyter-widgets/controls",
      "_view_module_version": "1.5.0",
      "_view_name": "HBoxView",
      "box_style": "",
      "children": [
       "IPY_MODEL_429baa75f3154d0c9c37a6c437808af3",
       "IPY_MODEL_76a234f6a01e466cb8d7993d28d62d76"
      ],
      "layout": "IPY_MODEL_303af01502f143bf93718f49781e020f"
     }
    },
    "429baa75f3154d0c9c37a6c437808af3": {
     "model_module": "@jupyter-widgets/controls",
     "model_name": "FloatProgressModel",
     "state": {
      "_dom_classes": [],
      "_model_module": "@jupyter-widgets/controls",
      "_model_module_version": "1.5.0",
      "_model_name": "FloatProgressModel",
      "_view_count": null,
      "_view_module": "@jupyter-widgets/controls",
      "_view_module_version": "1.5.0",
      "_view_name": "ProgressView",
      "bar_style": "success",
      "description": "Downloading: 100%",
      "description_tooltip": null,
      "layout": "IPY_MODEL_9703af47bbe548aa85412fa96bcf98c3",
      "max": 442,
      "min": 0,
      "orientation": "horizontal",
      "style": "IPY_MODEL_0eba3a47b833468085316cf14683fff8",
      "value": 442
     }
    },
    "4b346fc8ce6a4c5a90a538b6d6f7b541": {
     "model_module": "@jupyter-widgets/controls",
     "model_name": "HBoxModel",
     "state": {
      "_dom_classes": [],
      "_model_module": "@jupyter-widgets/controls",
      "_model_module_version": "1.5.0",
      "_model_name": "HBoxModel",
      "_view_count": null,
      "_view_module": "@jupyter-widgets/controls",
      "_view_module_version": "1.5.0",
      "_view_name": "HBoxView",
      "box_style": "",
      "children": [
       "IPY_MODEL_d487afe10dcb47978be50f16a2b05f79",
       "IPY_MODEL_1cd733f6d38341b6b8fffff886d00ab4"
      ],
      "layout": "IPY_MODEL_bdc082f46f8d4a5991c845ef9232d2e9"
     }
    },
    "63f9895d305d43c5a531933b5ec7f51c": {
     "model_module": "@jupyter-widgets/base",
     "model_name": "LayoutModel",
     "state": {
      "_model_module": "@jupyter-widgets/base",
      "_model_module_version": "1.2.0",
      "_model_name": "LayoutModel",
      "_view_count": null,
      "_view_module": "@jupyter-widgets/base",
      "_view_module_version": "1.2.0",
      "_view_name": "LayoutView",
      "align_content": null,
      "align_items": null,
      "align_self": null,
      "border": null,
      "bottom": null,
      "display": null,
      "flex": null,
      "flex_flow": null,
      "grid_area": null,
      "grid_auto_columns": null,
      "grid_auto_flow": null,
      "grid_auto_rows": null,
      "grid_column": null,
      "grid_gap": null,
      "grid_row": null,
      "grid_template_areas": null,
      "grid_template_columns": null,
      "grid_template_rows": null,
      "height": null,
      "justify_content": null,
      "justify_items": null,
      "left": null,
      "margin": null,
      "max_height": null,
      "max_width": null,
      "min_height": null,
      "min_width": null,
      "object_fit": null,
      "object_position": null,
      "order": null,
      "overflow": null,
      "overflow_x": null,
      "overflow_y": null,
      "padding": null,
      "right": null,
      "top": null,
      "visibility": null,
      "width": null
     }
    },
    "6ed093d7bcee479f88642f668ed3061f": {
     "model_module": "@jupyter-widgets/base",
     "model_name": "LayoutModel",
     "state": {
      "_model_module": "@jupyter-widgets/base",
      "_model_module_version": "1.2.0",
      "_model_name": "LayoutModel",
      "_view_count": null,
      "_view_module": "@jupyter-widgets/base",
      "_view_module_version": "1.2.0",
      "_view_name": "LayoutView",
      "align_content": null,
      "align_items": null,
      "align_self": null,
      "border": null,
      "bottom": null,
      "display": null,
      "flex": null,
      "flex_flow": null,
      "grid_area": null,
      "grid_auto_columns": null,
      "grid_auto_flow": null,
      "grid_auto_rows": null,
      "grid_column": null,
      "grid_gap": null,
      "grid_row": null,
      "grid_template_areas": null,
      "grid_template_columns": null,
      "grid_template_rows": null,
      "height": null,
      "justify_content": null,
      "justify_items": null,
      "left": null,
      "margin": null,
      "max_height": null,
      "max_width": null,
      "min_height": null,
      "min_width": null,
      "object_fit": null,
      "object_position": null,
      "order": null,
      "overflow": null,
      "overflow_x": null,
      "overflow_y": null,
      "padding": null,
      "right": null,
      "top": null,
      "visibility": null,
      "width": null
     }
    },
    "76a234f6a01e466cb8d7993d28d62d76": {
     "model_module": "@jupyter-widgets/controls",
     "model_name": "HTMLModel",
     "state": {
      "_dom_classes": [],
      "_model_module": "@jupyter-widgets/controls",
      "_model_module_version": "1.5.0",
      "_model_name": "HTMLModel",
      "_view_count": null,
      "_view_module": "@jupyter-widgets/controls",
      "_view_module_version": "1.5.0",
      "_view_name": "HTMLView",
      "description": "",
      "description_tooltip": null,
      "layout": "IPY_MODEL_9411ee44aafc4a9d95c44c6c9e10a77d",
      "placeholder": "​",
      "style": "IPY_MODEL_30181612298042ebaac1503dcba70ca9",
      "value": " 442/442 [00:00&lt;00:00, 509B/s]"
     }
    },
    "7bb56c70181c4cc29470f54fb91d6dcd": {
     "model_module": "@jupyter-widgets/controls",
     "model_name": "HBoxModel",
     "state": {
      "_dom_classes": [],
      "_model_module": "@jupyter-widgets/controls",
      "_model_module_version": "1.5.0",
      "_model_name": "HBoxModel",
      "_view_count": null,
      "_view_module": "@jupyter-widgets/controls",
      "_view_module_version": "1.5.0",
      "_view_name": "HBoxView",
      "box_style": "",
      "children": [
       "IPY_MODEL_e8d5d3235bbd4e3785c7375186536821",
       "IPY_MODEL_33e83ba5956143b6b023df01cec5cf3e"
      ],
      "layout": "IPY_MODEL_0be08d52e1b64e96be87fe83440773b9"
     }
    },
    "9411ee44aafc4a9d95c44c6c9e10a77d": {
     "model_module": "@jupyter-widgets/base",
     "model_name": "LayoutModel",
     "state": {
      "_model_module": "@jupyter-widgets/base",
      "_model_module_version": "1.2.0",
      "_model_name": "LayoutModel",
      "_view_count": null,
      "_view_module": "@jupyter-widgets/base",
      "_view_module_version": "1.2.0",
      "_view_name": "LayoutView",
      "align_content": null,
      "align_items": null,
      "align_self": null,
      "border": null,
      "bottom": null,
      "display": null,
      "flex": null,
      "flex_flow": null,
      "grid_area": null,
      "grid_auto_columns": null,
      "grid_auto_flow": null,
      "grid_auto_rows": null,
      "grid_column": null,
      "grid_gap": null,
      "grid_row": null,
      "grid_template_areas": null,
      "grid_template_columns": null,
      "grid_template_rows": null,
      "height": null,
      "justify_content": null,
      "justify_items": null,
      "left": null,
      "margin": null,
      "max_height": null,
      "max_width": null,
      "min_height": null,
      "min_width": null,
      "object_fit": null,
      "object_position": null,
      "order": null,
      "overflow": null,
      "overflow_x": null,
      "overflow_y": null,
      "padding": null,
      "right": null,
      "top": null,
      "visibility": null,
      "width": null
     }
    },
    "9703af47bbe548aa85412fa96bcf98c3": {
     "model_module": "@jupyter-widgets/base",
     "model_name": "LayoutModel",
     "state": {
      "_model_module": "@jupyter-widgets/base",
      "_model_module_version": "1.2.0",
      "_model_name": "LayoutModel",
      "_view_count": null,
      "_view_module": "@jupyter-widgets/base",
      "_view_module_version": "1.2.0",
      "_view_name": "LayoutView",
      "align_content": null,
      "align_items": null,
      "align_self": null,
      "border": null,
      "bottom": null,
      "display": null,
      "flex": null,
      "flex_flow": null,
      "grid_area": null,
      "grid_auto_columns": null,
      "grid_auto_flow": null,
      "grid_auto_rows": null,
      "grid_column": null,
      "grid_gap": null,
      "grid_row": null,
      "grid_template_areas": null,
      "grid_template_columns": null,
      "grid_template_rows": null,
      "height": null,
      "justify_content": null,
      "justify_items": null,
      "left": null,
      "margin": null,
      "max_height": null,
      "max_width": null,
      "min_height": null,
      "min_width": null,
      "object_fit": null,
      "object_position": null,
      "order": null,
      "overflow": null,
      "overflow_x": null,
      "overflow_y": null,
      "padding": null,
      "right": null,
      "top": null,
      "visibility": null,
      "width": null
     }
    },
    "9e1e27e78e82410f9607d41884b1e409": {
     "model_module": "@jupyter-widgets/base",
     "model_name": "LayoutModel",
     "state": {
      "_model_module": "@jupyter-widgets/base",
      "_model_module_version": "1.2.0",
      "_model_name": "LayoutModel",
      "_view_count": null,
      "_view_module": "@jupyter-widgets/base",
      "_view_module_version": "1.2.0",
      "_view_name": "LayoutView",
      "align_content": null,
      "align_items": null,
      "align_self": null,
      "border": null,
      "bottom": null,
      "display": null,
      "flex": null,
      "flex_flow": null,
      "grid_area": null,
      "grid_auto_columns": null,
      "grid_auto_flow": null,
      "grid_auto_rows": null,
      "grid_column": null,
      "grid_gap": null,
      "grid_row": null,
      "grid_template_areas": null,
      "grid_template_columns": null,
      "grid_template_rows": null,
      "height": null,
      "justify_content": null,
      "justify_items": null,
      "left": null,
      "margin": null,
      "max_height": null,
      "max_width": null,
      "min_height": null,
      "min_width": null,
      "object_fit": null,
      "object_position": null,
      "order": null,
      "overflow": null,
      "overflow_x": null,
      "overflow_y": null,
      "padding": null,
      "right": null,
      "top": null,
      "visibility": null,
      "width": null
     }
    },
    "a564d5218c944b5cbc4df7242f596305": {
     "model_module": "@jupyter-widgets/controls",
     "model_name": "DescriptionStyleModel",
     "state": {
      "_model_module": "@jupyter-widgets/controls",
      "_model_module_version": "1.5.0",
      "_model_name": "DescriptionStyleModel",
      "_view_count": null,
      "_view_module": "@jupyter-widgets/base",
      "_view_module_version": "1.2.0",
      "_view_name": "StyleView",
      "description_width": ""
     }
    },
    "bc122e13265f43109f292e82e9a76810": {
     "model_module": "@jupyter-widgets/controls",
     "model_name": "ProgressStyleModel",
     "state": {
      "_model_module": "@jupyter-widgets/controls",
      "_model_module_version": "1.5.0",
      "_model_name": "ProgressStyleModel",
      "_view_count": null,
      "_view_module": "@jupyter-widgets/base",
      "_view_module_version": "1.2.0",
      "_view_name": "StyleView",
      "bar_color": null,
      "description_width": "initial"
     }
    },
    "bdc082f46f8d4a5991c845ef9232d2e9": {
     "model_module": "@jupyter-widgets/base",
     "model_name": "LayoutModel",
     "state": {
      "_model_module": "@jupyter-widgets/base",
      "_model_module_version": "1.2.0",
      "_model_name": "LayoutModel",
      "_view_count": null,
      "_view_module": "@jupyter-widgets/base",
      "_view_module_version": "1.2.0",
      "_view_name": "LayoutView",
      "align_content": null,
      "align_items": null,
      "align_self": null,
      "border": null,
      "bottom": null,
      "display": null,
      "flex": null,
      "flex_flow": null,
      "grid_area": null,
      "grid_auto_columns": null,
      "grid_auto_flow": null,
      "grid_auto_rows": null,
      "grid_column": null,
      "grid_gap": null,
      "grid_row": null,
      "grid_template_areas": null,
      "grid_template_columns": null,
      "grid_template_rows": null,
      "height": null,
      "justify_content": null,
      "justify_items": null,
      "left": null,
      "margin": null,
      "max_height": null,
      "max_width": null,
      "min_height": null,
      "min_width": null,
      "object_fit": null,
      "object_position": null,
      "order": null,
      "overflow": null,
      "overflow_x": null,
      "overflow_y": null,
      "padding": null,
      "right": null,
      "top": null,
      "visibility": null,
      "width": null
     }
    },
    "d127a524e68e4871b3cf250e816b1d96": {
     "model_module": "@jupyter-widgets/controls",
     "model_name": "ProgressStyleModel",
     "state": {
      "_model_module": "@jupyter-widgets/controls",
      "_model_module_version": "1.5.0",
      "_model_name": "ProgressStyleModel",
      "_view_count": null,
      "_view_module": "@jupyter-widgets/base",
      "_view_module_version": "1.2.0",
      "_view_name": "StyleView",
      "bar_color": null,
      "description_width": "initial"
     }
    },
    "d487afe10dcb47978be50f16a2b05f79": {
     "model_module": "@jupyter-widgets/controls",
     "model_name": "FloatProgressModel",
     "state": {
      "_dom_classes": [],
      "_model_module": "@jupyter-widgets/controls",
      "_model_module_version": "1.5.0",
      "_model_name": "FloatProgressModel",
      "_view_count": null,
      "_view_module": "@jupyter-widgets/controls",
      "_view_module_version": "1.5.0",
      "_view_name": "ProgressView",
      "bar_style": "success",
      "description": "Downloading: 100%",
      "description_tooltip": null,
      "layout": "IPY_MODEL_083fd0179d264bb484bbbddfc3387804",
      "max": 231508,
      "min": 0,
      "orientation": "horizontal",
      "style": "IPY_MODEL_d127a524e68e4871b3cf250e816b1d96",
      "value": 231508
     }
    },
    "e8d5d3235bbd4e3785c7375186536821": {
     "model_module": "@jupyter-widgets/controls",
     "model_name": "FloatProgressModel",
     "state": {
      "_dom_classes": [],
      "_model_module": "@jupyter-widgets/controls",
      "_model_module_version": "1.5.0",
      "_model_name": "FloatProgressModel",
      "_view_count": null,
      "_view_module": "@jupyter-widgets/controls",
      "_view_module_version": "1.5.0",
      "_view_name": "ProgressView",
      "bar_style": "success",
      "description": "Downloading: 100%",
      "description_tooltip": null,
      "layout": "IPY_MODEL_9e1e27e78e82410f9607d41884b1e409",
      "max": 267967963,
      "min": 0,
      "orientation": "horizontal",
      "style": "IPY_MODEL_bc122e13265f43109f292e82e9a76810",
      "value": 267967963
     }
    }
   }
  }
 },
 "nbformat": 4,
 "nbformat_minor": 4
}
